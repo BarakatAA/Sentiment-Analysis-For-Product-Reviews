{
 "cells": [
  {
   "cell_type": "markdown",
   "id": "f91a8c0c",
   "metadata": {},
   "source": [
    "## Introduction\n",
    "\n",
    "This project is a sentiment analysis of an Amazon product review with the aim of classifying each review as positive, negative or neutral and recommending a Machine Learning model that best analyzes and assigns sentiments. Natural Language Processing techniques, Logistic Regression, Random Forest Classifier and K-Nearest Neighbours will be used in the analysis. "
   ]
  },
  {
   "cell_type": "code",
   "execution_count": 39,
   "id": "d55bacb3",
   "metadata": {
    "scrolled": true
   },
   "outputs": [],
   "source": [
    "#Importing the libraries for data manipulation and visualization\n",
    "import pandas as pd\n",
    "import numpy as np\n",
    "import string\n",
    "import matplotlib.pyplot as plt\n",
    "import seaborn as sns\n",
    "from wordcloud import WordCloud\n",
    "\n",
    "# Importing libraries for NLP\n",
    "import spacy\n",
    "import re\n",
    "from spacy.lang.en.stop_words import STOP_WORDS\n",
    "import nltk\n",
    "\n",
    "# Importing the libraries for model and validation\n",
    "from sklearn.model_selection import train_test_split, GridSearchCV\n",
    "from sklearn.ensemble import RandomForestClassifier\n",
    "from sklearn.linear_model import LogisticRegression\n",
    "from sklearn.neighbors import KNeighborsClassifier\n",
    "\n",
    "# Importing the libraries for metrics and reporting \n",
    "from sklearn.metrics import accuracy_score, f1_score, classification_report, confusion_matrix, roc_auc_score\n",
    "from imblearn.over_sampling import SMOTE\n",
    "from sklearn.feature_extraction.text import TfidfVectorizer\n",
    "\n",
    "# Ignore warnings\n",
    "import warnings\n",
    "warnings.filterwarnings(\"ignore\")\n"
   ]
  },
  {
   "cell_type": "code",
   "execution_count": 42,
   "id": "70914fda",
   "metadata": {},
   "outputs": [],
   "source": [
    "df = pd.read_table('Amazon Product Review.txt', delimiter=',')"
   ]
  },
  {
   "cell_type": "code",
   "execution_count": 43,
   "id": "66f703ac",
   "metadata": {},
   "outputs": [
    {
     "data": {
      "text/html": [
       "<div>\n",
       "<style scoped>\n",
       "    .dataframe tbody tr th:only-of-type {\n",
       "        vertical-align: middle;\n",
       "    }\n",
       "\n",
       "    .dataframe tbody tr th {\n",
       "        vertical-align: top;\n",
       "    }\n",
       "\n",
       "    .dataframe thead th {\n",
       "        text-align: right;\n",
       "    }\n",
       "</style>\n",
       "<table border=\"1\" class=\"dataframe\">\n",
       "  <thead>\n",
       "    <tr style=\"text-align: right;\">\n",
       "      <th></th>\n",
       "      <th>marketplace</th>\n",
       "      <th>customer_id</th>\n",
       "      <th>review_id</th>\n",
       "      <th>product_id</th>\n",
       "      <th>product_parent</th>\n",
       "      <th>product_title</th>\n",
       "      <th>product_category</th>\n",
       "      <th>star_rating</th>\n",
       "      <th>helpful_votes</th>\n",
       "      <th>total_votes</th>\n",
       "      <th>vine</th>\n",
       "      <th>verified_purchase</th>\n",
       "      <th>review_headline</th>\n",
       "      <th>review_body</th>\n",
       "      <th>review_date</th>\n",
       "      <th>sentiment</th>\n",
       "    </tr>\n",
       "  </thead>\n",
       "  <tbody>\n",
       "    <tr>\n",
       "      <th>0</th>\n",
       "      <td>US</td>\n",
       "      <td>11555559</td>\n",
       "      <td>R1QXC7AHHJBQ3O</td>\n",
       "      <td>B00IKPX4GY</td>\n",
       "      <td>2693241</td>\n",
       "      <td>Fire HD 7, 7\" HD Display, Wi-Fi, 8 GB</td>\n",
       "      <td>PC</td>\n",
       "      <td>5</td>\n",
       "      <td>0</td>\n",
       "      <td>0</td>\n",
       "      <td>N</td>\n",
       "      <td>Y</td>\n",
       "      <td>Five Stars</td>\n",
       "      <td>Great love it</td>\n",
       "      <td>2015-08-31</td>\n",
       "      <td>1</td>\n",
       "    </tr>\n",
       "    <tr>\n",
       "      <th>1</th>\n",
       "      <td>US</td>\n",
       "      <td>31469372</td>\n",
       "      <td>R175VSRV6ZETOP</td>\n",
       "      <td>B00IKPYKWG</td>\n",
       "      <td>2693241</td>\n",
       "      <td>Fire HD 7, 7\" HD Display, Wi-Fi, 8 GB</td>\n",
       "      <td>PC</td>\n",
       "      <td>3</td>\n",
       "      <td>0</td>\n",
       "      <td>0</td>\n",
       "      <td>N</td>\n",
       "      <td>N</td>\n",
       "      <td>Lots of ads Slow processing speed Occasionally...</td>\n",
       "      <td>Lots of ads&lt;br /&gt;Slow processing speed&lt;br /&gt;Oc...</td>\n",
       "      <td>2015-08-31</td>\n",
       "      <td>0</td>\n",
       "    </tr>\n",
       "    <tr>\n",
       "      <th>2</th>\n",
       "      <td>US</td>\n",
       "      <td>26843895</td>\n",
       "      <td>R2HRFF78MWGY19</td>\n",
       "      <td>B00IKPW0UA</td>\n",
       "      <td>2693241</td>\n",
       "      <td>Fire HD 7, 7\" HD Display, Wi-Fi, 8 GB</td>\n",
       "      <td>PC</td>\n",
       "      <td>5</td>\n",
       "      <td>0</td>\n",
       "      <td>0</td>\n",
       "      <td>N</td>\n",
       "      <td>Y</td>\n",
       "      <td>Well thought out device</td>\n",
       "      <td>Excellent unit.  The versatility of this table...</td>\n",
       "      <td>2015-08-31</td>\n",
       "      <td>1</td>\n",
       "    </tr>\n",
       "    <tr>\n",
       "      <th>3</th>\n",
       "      <td>US</td>\n",
       "      <td>19844868</td>\n",
       "      <td>R8Q39WPKYVSTX</td>\n",
       "      <td>B00LCHSHMS</td>\n",
       "      <td>2693241</td>\n",
       "      <td>Fire HD 7, 7\" HD Display, Wi-Fi, 8 GB</td>\n",
       "      <td>PC</td>\n",
       "      <td>4</td>\n",
       "      <td>0</td>\n",
       "      <td>0</td>\n",
       "      <td>N</td>\n",
       "      <td>N</td>\n",
       "      <td>Not all apps/games we were looking forward to ...</td>\n",
       "      <td>I bought this on Amazon Prime so I ended up bu...</td>\n",
       "      <td>2015-08-31</td>\n",
       "      <td>1</td>\n",
       "    </tr>\n",
       "    <tr>\n",
       "      <th>4</th>\n",
       "      <td>US</td>\n",
       "      <td>1189852</td>\n",
       "      <td>R3RL4C8YP2ZCJL</td>\n",
       "      <td>B00IKPZ5V6</td>\n",
       "      <td>2693241</td>\n",
       "      <td>Fire HD 7, 7\" HD Display, Wi-Fi, 8 GB</td>\n",
       "      <td>PC</td>\n",
       "      <td>5</td>\n",
       "      <td>0</td>\n",
       "      <td>0</td>\n",
       "      <td>N</td>\n",
       "      <td>Y</td>\n",
       "      <td>Five Stars</td>\n",
       "      <td>All Amazon products continue to meet my expect...</td>\n",
       "      <td>2015-08-31</td>\n",
       "      <td>1</td>\n",
       "    </tr>\n",
       "  </tbody>\n",
       "</table>\n",
       "</div>"
      ],
      "text/plain": [
       "  marketplace  customer_id       review_id  product_id  product_parent  \\\n",
       "0          US     11555559  R1QXC7AHHJBQ3O  B00IKPX4GY         2693241   \n",
       "1          US     31469372  R175VSRV6ZETOP  B00IKPYKWG         2693241   \n",
       "2          US     26843895  R2HRFF78MWGY19  B00IKPW0UA         2693241   \n",
       "3          US     19844868   R8Q39WPKYVSTX  B00LCHSHMS         2693241   \n",
       "4          US      1189852  R3RL4C8YP2ZCJL  B00IKPZ5V6         2693241   \n",
       "\n",
       "                           product_title product_category  star_rating  \\\n",
       "0  Fire HD 7, 7\" HD Display, Wi-Fi, 8 GB               PC            5   \n",
       "1  Fire HD 7, 7\" HD Display, Wi-Fi, 8 GB               PC            3   \n",
       "2  Fire HD 7, 7\" HD Display, Wi-Fi, 8 GB               PC            5   \n",
       "3  Fire HD 7, 7\" HD Display, Wi-Fi, 8 GB               PC            4   \n",
       "4  Fire HD 7, 7\" HD Display, Wi-Fi, 8 GB               PC            5   \n",
       "\n",
       "   helpful_votes  total_votes vine verified_purchase  \\\n",
       "0              0            0    N                 Y   \n",
       "1              0            0    N                 N   \n",
       "2              0            0    N                 Y   \n",
       "3              0            0    N                 N   \n",
       "4              0            0    N                 Y   \n",
       "\n",
       "                                     review_headline  \\\n",
       "0                                         Five Stars   \n",
       "1  Lots of ads Slow processing speed Occasionally...   \n",
       "2                            Well thought out device   \n",
       "3  Not all apps/games we were looking forward to ...   \n",
       "4                                         Five Stars   \n",
       "\n",
       "                                         review_body review_date  sentiment  \n",
       "0                                      Great love it  2015-08-31          1  \n",
       "1  Lots of ads<br />Slow processing speed<br />Oc...  2015-08-31          0  \n",
       "2  Excellent unit.  The versatility of this table...  2015-08-31          1  \n",
       "3  I bought this on Amazon Prime so I ended up bu...  2015-08-31          1  \n",
       "4  All Amazon products continue to meet my expect...  2015-08-31          1  "
      ]
     },
     "execution_count": 43,
     "metadata": {},
     "output_type": "execute_result"
    }
   ],
   "source": [
    "# Previewing the dataset\n",
    "df.head()"
   ]
  },
  {
   "cell_type": "code",
   "execution_count": 44,
   "id": "147567dc",
   "metadata": {},
   "outputs": [
    {
     "name": "stdout",
     "output_type": "stream",
     "text": [
      "<class 'pandas.core.frame.DataFrame'>\n",
      "RangeIndex: 30846 entries, 0 to 30845\n",
      "Data columns (total 16 columns):\n",
      " #   Column             Non-Null Count  Dtype \n",
      "---  ------             --------------  ----- \n",
      " 0   marketplace        30846 non-null  object\n",
      " 1   customer_id        30846 non-null  int64 \n",
      " 2   review_id          30846 non-null  object\n",
      " 3   product_id         30846 non-null  object\n",
      " 4   product_parent     30846 non-null  int64 \n",
      " 5   product_title      30846 non-null  object\n",
      " 6   product_category   30846 non-null  object\n",
      " 7   star_rating        30846 non-null  int64 \n",
      " 8   helpful_votes      30846 non-null  int64 \n",
      " 9   total_votes        30846 non-null  int64 \n",
      " 10  vine               30846 non-null  object\n",
      " 11  verified_purchase  30846 non-null  object\n",
      " 12  review_headline    30846 non-null  object\n",
      " 13  review_body        30846 non-null  object\n",
      " 14  review_date        30846 non-null  object\n",
      " 15  sentiment          30846 non-null  int64 \n",
      "dtypes: int64(6), object(10)\n",
      "memory usage: 3.8+ MB\n"
     ]
    }
   ],
   "source": [
    "# Overview of the dataset\n",
    "df.info()"
   ]
  },
  {
   "cell_type": "code",
   "execution_count": 45,
   "id": "b0acc0b4",
   "metadata": {},
   "outputs": [
    {
     "data": {
      "text/plain": [
       "(30846, 16)"
      ]
     },
     "execution_count": 45,
     "metadata": {},
     "output_type": "execute_result"
    }
   ],
   "source": [
    "df.shape  # 16 columns and 30846 rows"
   ]
  },
  {
   "cell_type": "code",
   "execution_count": 46,
   "id": "0ae110d8",
   "metadata": {},
   "outputs": [
    {
     "data": {
      "text/plain": [
       "marketplace          0\n",
       "customer_id          0\n",
       "review_id            0\n",
       "product_id           0\n",
       "product_parent       0\n",
       "product_title        0\n",
       "product_category     0\n",
       "star_rating          0\n",
       "helpful_votes        0\n",
       "total_votes          0\n",
       "vine                 0\n",
       "verified_purchase    0\n",
       "review_headline      0\n",
       "review_body          0\n",
       "review_date          0\n",
       "sentiment            0\n",
       "dtype: int64"
      ]
     },
     "execution_count": 46,
     "metadata": {},
     "output_type": "execute_result"
    }
   ],
   "source": [
    "# Finding missing values\n",
    "df.isnull().sum()"
   ]
  },
  {
   "cell_type": "code",
   "execution_count": 47,
   "id": "8c683495",
   "metadata": {},
   "outputs": [
    {
     "data": {
      "text/plain": [
       "False"
      ]
     },
     "execution_count": 47,
     "metadata": {},
     "output_type": "execute_result"
    }
   ],
   "source": [
    "# Checking duplicate values\n",
    "df.duplicated().any()"
   ]
  },
  {
   "cell_type": "markdown",
   "id": "b4a1243c",
   "metadata": {},
   "source": [
    "### Exploratory Data Analysis (EDA)"
   ]
  },
  {
   "cell_type": "code",
   "execution_count": 48,
   "id": "299bf1c9",
   "metadata": {
    "scrolled": true
   },
   "outputs": [
    {
     "data": {
      "text/plain": [
       "1    25767\n",
       "0     5079\n",
       "Name: sentiment, dtype: int64"
      ]
     },
     "execution_count": 48,
     "metadata": {},
     "output_type": "execute_result"
    }
   ],
   "source": [
    "# Print target distribution\n",
    "df[\"sentiment\"].value_counts()"
   ]
  },
  {
   "cell_type": "code",
   "execution_count": 49,
   "id": "658cd930",
   "metadata": {},
   "outputs": [
    {
     "data": {
      "image/png": "[encoded data removed]",
      "text/plain": [
       "<Figure size 600x600 with 1 Axes>"
      ]
     },
     "metadata": {},
     "output_type": "display_data"
    }
   ],
   "source": [
    "df['sentiment'].value_counts().plot.pie(figsize=(6,6),title=\"Distribution of reviews per sentiment\",labels=['',''],autopct='%1.1f%%')\n",
    "labels=[\"Positive\",\"Negative\"]\n",
    "plt.legend(labels,loc=3)\n",
    "plt.gca().set_aspect('equal')\n"
   ]
  },
  {
   "cell_type": "markdown",
   "id": "eb8dfb30",
   "metadata": {},
   "source": [
    "There are more positive sentiments (83.5%) than negative (16.5%) which shows customers positive disposition to the product"
   ]
  },
  {
   "cell_type": "code",
   "execution_count": 50,
   "id": "47119139",
   "metadata": {},
   "outputs": [
    {
     "data": {
      "image/png": "[encoded data removed]",
      "text/plain": [
       "<Figure size 1200x500 with 1 Axes>"
      ]
     },
     "metadata": {},
     "output_type": "display_data"
    }
   ],
   "source": [
    "# Calculate length of each review\n",
    "len_df = pd.concat([df.loc[:,\"review_body\"].map(lambda x:len(x)),df.loc[:,\"sentiment\"]],axis=1)\n",
    "\n",
    "# Plot distribution\n",
    "plt.figure(figsize=(12,5))\n",
    "sns.histplot(data=len_df, x=\"review_body\", hue=\"sentiment\", binwidth=100, kde=True)\n",
    "plt.title(\"Length of reviews\")\n",
    "plt.xlabel(\"Length\")\n",
    "plt.xlim([0,1000])\n",
    "plt.show()"
   ]
  },
  {
   "cell_type": "code",
   "execution_count": 51,
   "id": "ed161980",
   "metadata": {},
   "outputs": [
    {
     "name": "stdout",
     "output_type": "stream",
     "text": [
      "Average positive review length: 140.6709356929406\n",
      "Average negative review length: 350.09076589879896\n"
     ]
    }
   ],
   "source": [
    "print(\"Average positive review length:\", len_df.loc[len_df[\"sentiment\"]== 1,\"review_body\"].mean())\n",
    "print(\"Average negative review length:\", len_df.loc[len_df[\"sentiment\"]== 0,\"review_body\"].mean())"
   ]
  },
  {
   "cell_type": "markdown",
   "id": "9c5276cb",
   "metadata": {},
   "source": [
    "This shows negative reviews are longer than positive reviews on the average"
   ]
  },
  {
   "cell_type": "code",
   "execution_count": 52,
   "id": "567c390e",
   "metadata": {},
   "outputs": [
    {
     "name": "stdout",
     "output_type": "stream",
     "text": [
      "5    20019\n",
      "4     5748\n",
      "3     2216\n",
      "1     1708\n",
      "2     1155\n",
      "Name: star_rating, dtype: int64\n"
     ]
    },
    {
     "data": {
      "image/png": "[encoded data removed]",
      "text/plain": [
       "<Figure size 640x480 with 1 Axes>"
      ]
     },
     "metadata": {},
     "output_type": "display_data"
    }
   ],
   "source": [
    "# Calculate star rating of review\n",
    "star_rating = df[\"star_rating\"].value_counts()\n",
    "print(star_rating)\n",
    "\n",
    "# Plot distribution\n",
    "star_rating.plot.bar()\n",
    "plt.title(\"Star rating per review\")\n",
    "plt.xlabel(\"Star rating\")\n",
    "plt.show()"
   ]
  },
  {
   "cell_type": "markdown",
   "id": "39bc6f8c",
   "metadata": {},
   "source": [
    "There were more 5 star ratings in the reviews which is a good thing"
   ]
  },
  {
   "cell_type": "markdown",
   "id": "b5f03f6d",
   "metadata": {},
   "source": [
    "### Data Preprocesssing"
   ]
  },
  {
   "cell_type": "code",
   "execution_count": 53,
   "id": "5243dca9",
   "metadata": {},
   "outputs": [],
   "source": [
    "# Clean the text\n",
    "def clean_text(Review):\n",
    "    # Convert text to lowercase\n",
    "    Review = str(Review).lower()  \n",
    "    # Remove words enclosed in square brackets\n",
    "    Review = re.sub('\\[.*?\\]', '', Review)\n",
    "    # Remove words enclosed in angle brackets\n",
    "    Review = re.sub('<.*?>+', '', Review)\n",
    "    # Remove hyperlinks and URLs\n",
    "    Review = re.sub('https?://\\S+|www\\.\\S+', '', Review)\n",
    "    # Remove numbers\n",
    "    Review = re.sub(r'[^a-z0-9\\s]', '', Review)\n",
    "    Review = re.sub('\\n', '', Review)\n",
    "    Review = re.sub('\\w*\\d\\w*', '', Review)\n",
    "    return Review\n",
    "\n",
    "# Clean entire dataset\n",
    "df['clean_review'] = df['review_body'].apply(clean_text)"
   ]
  },
  {
   "cell_type": "markdown",
   "id": "79929d8c",
   "metadata": {},
   "source": [
    "### Stopwords removal"
   ]
  },
  {
   "cell_type": "code",
   "execution_count": 54,
   "id": "20ec5be2",
   "metadata": {
    "scrolled": true
   },
   "outputs": [
    {
     "name": "stderr",
     "output_type": "stream",
     "text": [
      "[nltk_data] Downloading package stopwords to\n",
      "[nltk_data]     C:\\Users\\akinj\\AppData\\Roaming\\nltk_data...\n",
      "[nltk_data]   Package stopwords is already up-to-date!\n"
     ]
    },
    {
     "data": {
      "text/plain": [
       "True"
      ]
     },
     "execution_count": 54,
     "metadata": {},
     "output_type": "execute_result"
    }
   ],
   "source": [
    "import nltk\n",
    "nltk.download('stopwords')\n"
   ]
  },
  {
   "cell_type": "code",
   "execution_count": 55,
   "id": "0a266865",
   "metadata": {
    "scrolled": true
   },
   "outputs": [],
   "source": [
    "#clean stopwords\n",
    "stopword = set(stopwords.words('english'))\n",
    "def clean_stopwords(text):\n",
    "    text = ' '.join(word for word in text.split() if word not in stopword) \n",
    "    return text\n",
    "   \n",
    "df['review_sw'] = df['clean_review'].apply(clean_stopwords)"
   ]
  },
  {
   "cell_type": "markdown",
   "id": "dc258e92",
   "metadata": {},
   "source": [
    "### Lemmatization\n",
    "\n",
    "Lemmatization is a linguistic process used in Natural Language Processing (NLP) to reduce words to their base or root form, called a lemma. The lemma is a canonical form of a word, which represents its dictionary form or morphological variant example the lemma of the word 'better. is 'good' and 'running. is 'run'"
   ]
  },
  {
   "cell_type": "code",
   "execution_count": 56,
   "id": "75ac4f8f",
   "metadata": {
    "scrolled": false
   },
   "outputs": [],
   "source": [
    "nlp = spacy.load(\"en_core_web_sm\")"
   ]
  },
  {
   "cell_type": "code",
   "execution_count": 57,
   "id": "69c28e0f",
   "metadata": {},
   "outputs": [],
   "source": [
    "def lemmatization (text):\n",
    "    doc = nlp(text)\n",
    "    tokens = [token.lemma_ for token in doc if not token.is_stop]\n",
    "    return ' '.join(tokens)\n",
    "\n",
    "# Apply lemmatization function\n",
    "df['review_cleaned'] = df['review_sw'].apply(lemmatization)"
   ]
  },
  {
   "cell_type": "code",
   "execution_count": 58,
   "id": "75fca375",
   "metadata": {
    "scrolled": true
   },
   "outputs": [
    {
     "data": {
      "text/html": [
       "<div>\n",
       "<style scoped>\n",
       "    .dataframe tbody tr th:only-of-type {\n",
       "        vertical-align: middle;\n",
       "    }\n",
       "\n",
       "    .dataframe tbody tr th {\n",
       "        vertical-align: top;\n",
       "    }\n",
       "\n",
       "    .dataframe thead th {\n",
       "        text-align: right;\n",
       "    }\n",
       "</style>\n",
       "<table border=\"1\" class=\"dataframe\">\n",
       "  <thead>\n",
       "    <tr style=\"text-align: right;\">\n",
       "      <th></th>\n",
       "      <th>marketplace</th>\n",
       "      <th>customer_id</th>\n",
       "      <th>review_id</th>\n",
       "      <th>product_id</th>\n",
       "      <th>product_parent</th>\n",
       "      <th>product_title</th>\n",
       "      <th>product_category</th>\n",
       "      <th>star_rating</th>\n",
       "      <th>helpful_votes</th>\n",
       "      <th>total_votes</th>\n",
       "      <th>vine</th>\n",
       "      <th>verified_purchase</th>\n",
       "      <th>review_headline</th>\n",
       "      <th>review_body</th>\n",
       "      <th>review_date</th>\n",
       "      <th>sentiment</th>\n",
       "      <th>clean_review</th>\n",
       "      <th>review_sw</th>\n",
       "      <th>review_cleaned</th>\n",
       "    </tr>\n",
       "  </thead>\n",
       "  <tbody>\n",
       "    <tr>\n",
       "      <th>0</th>\n",
       "      <td>US</td>\n",
       "      <td>11555559</td>\n",
       "      <td>R1QXC7AHHJBQ3O</td>\n",
       "      <td>B00IKPX4GY</td>\n",
       "      <td>2693241</td>\n",
       "      <td>Fire HD 7, 7\" HD Display, Wi-Fi, 8 GB</td>\n",
       "      <td>PC</td>\n",
       "      <td>5</td>\n",
       "      <td>0</td>\n",
       "      <td>0</td>\n",
       "      <td>N</td>\n",
       "      <td>Y</td>\n",
       "      <td>Five Stars</td>\n",
       "      <td>Great love it</td>\n",
       "      <td>2015-08-31</td>\n",
       "      <td>1</td>\n",
       "      <td>great love it</td>\n",
       "      <td>great love</td>\n",
       "      <td>great love</td>\n",
       "    </tr>\n",
       "    <tr>\n",
       "      <th>1</th>\n",
       "      <td>US</td>\n",
       "      <td>31469372</td>\n",
       "      <td>R175VSRV6ZETOP</td>\n",
       "      <td>B00IKPYKWG</td>\n",
       "      <td>2693241</td>\n",
       "      <td>Fire HD 7, 7\" HD Display, Wi-Fi, 8 GB</td>\n",
       "      <td>PC</td>\n",
       "      <td>3</td>\n",
       "      <td>0</td>\n",
       "      <td>0</td>\n",
       "      <td>N</td>\n",
       "      <td>N</td>\n",
       "      <td>Lots of ads Slow processing speed Occasionally...</td>\n",
       "      <td>Lots of ads&lt;br /&gt;Slow processing speed&lt;br /&gt;Oc...</td>\n",
       "      <td>2015-08-31</td>\n",
       "      <td>0</td>\n",
       "      <td>lots of adsslow processing speedoccasionally s...</td>\n",
       "      <td>lots adsslow processing speedoccasionally shut...</td>\n",
       "      <td>lot adsslow processing speedoccasionally shut ...</td>\n",
       "    </tr>\n",
       "    <tr>\n",
       "      <th>2</th>\n",
       "      <td>US</td>\n",
       "      <td>26843895</td>\n",
       "      <td>R2HRFF78MWGY19</td>\n",
       "      <td>B00IKPW0UA</td>\n",
       "      <td>2693241</td>\n",
       "      <td>Fire HD 7, 7\" HD Display, Wi-Fi, 8 GB</td>\n",
       "      <td>PC</td>\n",
       "      <td>5</td>\n",
       "      <td>0</td>\n",
       "      <td>0</td>\n",
       "      <td>N</td>\n",
       "      <td>Y</td>\n",
       "      <td>Well thought out device</td>\n",
       "      <td>Excellent unit.  The versatility of this table...</td>\n",
       "      <td>2015-08-31</td>\n",
       "      <td>1</td>\n",
       "      <td>excellent unit  the versatility of this tablet...</td>\n",
       "      <td>excellent unit versatility tablet besides comp...</td>\n",
       "      <td>excellent unit versatility tablet competitivel...</td>\n",
       "    </tr>\n",
       "    <tr>\n",
       "      <th>3</th>\n",
       "      <td>US</td>\n",
       "      <td>19844868</td>\n",
       "      <td>R8Q39WPKYVSTX</td>\n",
       "      <td>B00LCHSHMS</td>\n",
       "      <td>2693241</td>\n",
       "      <td>Fire HD 7, 7\" HD Display, Wi-Fi, 8 GB</td>\n",
       "      <td>PC</td>\n",
       "      <td>4</td>\n",
       "      <td>0</td>\n",
       "      <td>0</td>\n",
       "      <td>N</td>\n",
       "      <td>N</td>\n",
       "      <td>Not all apps/games we were looking forward to ...</td>\n",
       "      <td>I bought this on Amazon Prime so I ended up bu...</td>\n",
       "      <td>2015-08-31</td>\n",
       "      <td>1</td>\n",
       "      <td>i bought this on amazon prime so i ended up bu...</td>\n",
       "      <td>bought amazon prime ended buying one camera ok...</td>\n",
       "      <td>buy amazon prime end buy camera okay love edit...</td>\n",
       "    </tr>\n",
       "    <tr>\n",
       "      <th>4</th>\n",
       "      <td>US</td>\n",
       "      <td>1189852</td>\n",
       "      <td>R3RL4C8YP2ZCJL</td>\n",
       "      <td>B00IKPZ5V6</td>\n",
       "      <td>2693241</td>\n",
       "      <td>Fire HD 7, 7\" HD Display, Wi-Fi, 8 GB</td>\n",
       "      <td>PC</td>\n",
       "      <td>5</td>\n",
       "      <td>0</td>\n",
       "      <td>0</td>\n",
       "      <td>N</td>\n",
       "      <td>Y</td>\n",
       "      <td>Five Stars</td>\n",
       "      <td>All Amazon products continue to meet my expect...</td>\n",
       "      <td>2015-08-31</td>\n",
       "      <td>1</td>\n",
       "      <td>all amazon products continue to meet my expect...</td>\n",
       "      <td>amazon products continue meet expectations</td>\n",
       "      <td>amazon product continue meet expectation</td>\n",
       "    </tr>\n",
       "    <tr>\n",
       "      <th>...</th>\n",
       "      <td>...</td>\n",
       "      <td>...</td>\n",
       "      <td>...</td>\n",
       "      <td>...</td>\n",
       "      <td>...</td>\n",
       "      <td>...</td>\n",
       "      <td>...</td>\n",
       "      <td>...</td>\n",
       "      <td>...</td>\n",
       "      <td>...</td>\n",
       "      <td>...</td>\n",
       "      <td>...</td>\n",
       "      <td>...</td>\n",
       "      <td>...</td>\n",
       "      <td>...</td>\n",
       "      <td>...</td>\n",
       "      <td>...</td>\n",
       "      <td>...</td>\n",
       "      <td>...</td>\n",
       "    </tr>\n",
       "    <tr>\n",
       "      <th>30841</th>\n",
       "      <td>US</td>\n",
       "      <td>44834233</td>\n",
       "      <td>R366C7ARIWLN7R</td>\n",
       "      <td>B00IKPW0UA</td>\n",
       "      <td>2693241</td>\n",
       "      <td>Fire HD 7, 7\" HD Display, Wi-Fi, 8 GB</td>\n",
       "      <td>PC</td>\n",
       "      <td>5</td>\n",
       "      <td>3720</td>\n",
       "      <td>3875</td>\n",
       "      <td>N</td>\n",
       "      <td>Y</td>\n",
       "      <td>A great upgrade for me from an older Kindle Fire!</td>\n",
       "      <td>[[VIDEOID:moP3B6GS5RL8LY]]I purchased the orig...</td>\n",
       "      <td>2014-10-03</td>\n",
       "      <td>1</td>\n",
       "      <td>i purchased the original kindle fire in  and t...</td>\n",
       "      <td>purchased original kindle fire second generati...</td>\n",
       "      <td>purchase original kindle fire second generatio...</td>\n",
       "    </tr>\n",
       "    <tr>\n",
       "      <th>30842</th>\n",
       "      <td>US</td>\n",
       "      <td>13376158</td>\n",
       "      <td>R35PL0AOCUXLU9</td>\n",
       "      <td>B00IKPYKWG</td>\n",
       "      <td>2693241</td>\n",
       "      <td>Fire HD 7, 7\" HD Display, Wi-Fi, 8 GB</td>\n",
       "      <td>PC</td>\n",
       "      <td>5</td>\n",
       "      <td>2716</td>\n",
       "      <td>2849</td>\n",
       "      <td>N</td>\n",
       "      <td>Y</td>\n",
       "      <td>Great Value for $139</td>\n",
       "      <td>I'm writing this review with the benefit of be...</td>\n",
       "      <td>2014-10-03</td>\n",
       "      <td>1</td>\n",
       "      <td>im writing this review with the benefit of bei...</td>\n",
       "      <td>im writing review benefit experienced kindle f...</td>\n",
       "      <td>m write review benefit experience kindle fire ...</td>\n",
       "    </tr>\n",
       "    <tr>\n",
       "      <th>30843</th>\n",
       "      <td>US</td>\n",
       "      <td>40485963</td>\n",
       "      <td>R18ZJVY86AUFII</td>\n",
       "      <td>B00KC6XV58</td>\n",
       "      <td>2693241</td>\n",
       "      <td>Fire HD 7, 7\" HD Display, Wi-Fi, 8 GB</td>\n",
       "      <td>PC</td>\n",
       "      <td>5</td>\n",
       "      <td>1525</td>\n",
       "      <td>1629</td>\n",
       "      <td>N</td>\n",
       "      <td>Y</td>\n",
       "      <td>Even grandma has it figured out!</td>\n",
       "      <td>I purchased this Kindle for my grandma, becaus...</td>\n",
       "      <td>2014-10-03</td>\n",
       "      <td>1</td>\n",
       "      <td>i purchased this kindle for my grandma because...</td>\n",
       "      <td>purchased kindle grandma wanted simple way vid...</td>\n",
       "      <td>purchase kindle grandma want simple way video ...</td>\n",
       "    </tr>\n",
       "    <tr>\n",
       "      <th>30844</th>\n",
       "      <td>US</td>\n",
       "      <td>33485035</td>\n",
       "      <td>R36QVLQXMCZRSJ</td>\n",
       "      <td>B00IKPYKWG</td>\n",
       "      <td>2693241</td>\n",
       "      <td>Fire HD 7, 7\" HD Display, Wi-Fi, 8 GB</td>\n",
       "      <td>PC</td>\n",
       "      <td>4</td>\n",
       "      <td>143</td>\n",
       "      <td>163</td>\n",
       "      <td>N</td>\n",
       "      <td>Y</td>\n",
       "      <td>The Honda Accord of Tablets</td>\n",
       "      <td>I bought my tablet Fire HD 7 at Best Buy on th...</td>\n",
       "      <td>2014-10-03</td>\n",
       "      <td>1</td>\n",
       "      <td>i bought my tablet fire hd  at best buy on the...</td>\n",
       "      <td>bought tablet fire hd best buy day came hadnt ...</td>\n",
       "      <td>buy tablet fire hd good buy day come not plan ...</td>\n",
       "    </tr>\n",
       "    <tr>\n",
       "      <th>30845</th>\n",
       "      <td>US</td>\n",
       "      <td>7015231</td>\n",
       "      <td>R1MWVQUDBUADGE</td>\n",
       "      <td>B00IKPYKWG</td>\n",
       "      <td>2693241</td>\n",
       "      <td>Fire HD 7, 7\" HD Display, Wi-Fi, 8 GB</td>\n",
       "      <td>PC</td>\n",
       "      <td>5</td>\n",
       "      <td>2</td>\n",
       "      <td>10</td>\n",
       "      <td>N</td>\n",
       "      <td>N</td>\n",
       "      <td>won't regret it</td>\n",
       "      <td>Am impressive piece of hardware for the $. No ...</td>\n",
       "      <td>2014-10-03</td>\n",
       "      <td>1</td>\n",
       "      <td>am impressive piece of hardware for the  no re...</td>\n",
       "      <td>impressive piece hardware regrets girlfriend l...</td>\n",
       "      <td>impressive piece hardware regret girlfriend love</td>\n",
       "    </tr>\n",
       "  </tbody>\n",
       "</table>\n",
       "<p>30846 rows × 19 columns</p>\n",
       "</div>"
      ],
      "text/plain": [
       "      marketplace  customer_id       review_id  product_id  product_parent  \\\n",
       "0              US     11555559  R1QXC7AHHJBQ3O  B00IKPX4GY         2693241   \n",
       "1              US     31469372  R175VSRV6ZETOP  B00IKPYKWG         2693241   \n",
       "2              US     26843895  R2HRFF78MWGY19  B00IKPW0UA         2693241   \n",
       "3              US     19844868   R8Q39WPKYVSTX  B00LCHSHMS         2693241   \n",
       "4              US      1189852  R3RL4C8YP2ZCJL  B00IKPZ5V6         2693241   \n",
       "...           ...          ...             ...         ...             ...   \n",
       "30841          US     44834233  R366C7ARIWLN7R  B00IKPW0UA         2693241   \n",
       "30842          US     13376158  R35PL0AOCUXLU9  B00IKPYKWG         2693241   \n",
       "30843          US     40485963  R18ZJVY86AUFII  B00KC6XV58         2693241   \n",
       "30844          US     33485035  R36QVLQXMCZRSJ  B00IKPYKWG         2693241   \n",
       "30845          US      7015231  R1MWVQUDBUADGE  B00IKPYKWG         2693241   \n",
       "\n",
       "                               product_title product_category  star_rating  \\\n",
       "0      Fire HD 7, 7\" HD Display, Wi-Fi, 8 GB               PC            5   \n",
       "1      Fire HD 7, 7\" HD Display, Wi-Fi, 8 GB               PC            3   \n",
       "2      Fire HD 7, 7\" HD Display, Wi-Fi, 8 GB               PC            5   \n",
       "3      Fire HD 7, 7\" HD Display, Wi-Fi, 8 GB               PC            4   \n",
       "4      Fire HD 7, 7\" HD Display, Wi-Fi, 8 GB               PC            5   \n",
       "...                                      ...              ...          ...   \n",
       "30841  Fire HD 7, 7\" HD Display, Wi-Fi, 8 GB               PC            5   \n",
       "30842  Fire HD 7, 7\" HD Display, Wi-Fi, 8 GB               PC            5   \n",
       "30843  Fire HD 7, 7\" HD Display, Wi-Fi, 8 GB               PC            5   \n",
       "30844  Fire HD 7, 7\" HD Display, Wi-Fi, 8 GB               PC            4   \n",
       "30845  Fire HD 7, 7\" HD Display, Wi-Fi, 8 GB               PC            5   \n",
       "\n",
       "       helpful_votes  total_votes vine verified_purchase  \\\n",
       "0                  0            0    N                 Y   \n",
       "1                  0            0    N                 N   \n",
       "2                  0            0    N                 Y   \n",
       "3                  0            0    N                 N   \n",
       "4                  0            0    N                 Y   \n",
       "...              ...          ...  ...               ...   \n",
       "30841           3720         3875    N                 Y   \n",
       "30842           2716         2849    N                 Y   \n",
       "30843           1525         1629    N                 Y   \n",
       "30844            143          163    N                 Y   \n",
       "30845              2           10    N                 N   \n",
       "\n",
       "                                         review_headline  \\\n",
       "0                                             Five Stars   \n",
       "1      Lots of ads Slow processing speed Occasionally...   \n",
       "2                                Well thought out device   \n",
       "3      Not all apps/games we were looking forward to ...   \n",
       "4                                             Five Stars   \n",
       "...                                                  ...   \n",
       "30841  A great upgrade for me from an older Kindle Fire!   \n",
       "30842                               Great Value for $139   \n",
       "30843                   Even grandma has it figured out!   \n",
       "30844                        The Honda Accord of Tablets   \n",
       "30845                                    won't regret it   \n",
       "\n",
       "                                             review_body review_date  \\\n",
       "0                                          Great love it  2015-08-31   \n",
       "1      Lots of ads<br />Slow processing speed<br />Oc...  2015-08-31   \n",
       "2      Excellent unit.  The versatility of this table...  2015-08-31   \n",
       "3      I bought this on Amazon Prime so I ended up bu...  2015-08-31   \n",
       "4      All Amazon products continue to meet my expect...  2015-08-31   \n",
       "...                                                  ...         ...   \n",
       "30841  [[VIDEOID:moP3B6GS5RL8LY]]I purchased the orig...  2014-10-03   \n",
       "30842  I'm writing this review with the benefit of be...  2014-10-03   \n",
       "30843  I purchased this Kindle for my grandma, becaus...  2014-10-03   \n",
       "30844  I bought my tablet Fire HD 7 at Best Buy on th...  2014-10-03   \n",
       "30845  Am impressive piece of hardware for the $. No ...  2014-10-03   \n",
       "\n",
       "       sentiment                                       clean_review  \\\n",
       "0              1                                      great love it   \n",
       "1              0  lots of adsslow processing speedoccasionally s...   \n",
       "2              1  excellent unit  the versatility of this tablet...   \n",
       "3              1  i bought this on amazon prime so i ended up bu...   \n",
       "4              1  all amazon products continue to meet my expect...   \n",
       "...          ...                                                ...   \n",
       "30841          1  i purchased the original kindle fire in  and t...   \n",
       "30842          1  im writing this review with the benefit of bei...   \n",
       "30843          1  i purchased this kindle for my grandma because...   \n",
       "30844          1  i bought my tablet fire hd  at best buy on the...   \n",
       "30845          1  am impressive piece of hardware for the  no re...   \n",
       "\n",
       "                                               review_sw  \\\n",
       "0                                             great love   \n",
       "1      lots adsslow processing speedoccasionally shut...   \n",
       "2      excellent unit versatility tablet besides comp...   \n",
       "3      bought amazon prime ended buying one camera ok...   \n",
       "4             amazon products continue meet expectations   \n",
       "...                                                  ...   \n",
       "30841  purchased original kindle fire second generati...   \n",
       "30842  im writing review benefit experienced kindle f...   \n",
       "30843  purchased kindle grandma wanted simple way vid...   \n",
       "30844  bought tablet fire hd best buy day came hadnt ...   \n",
       "30845  impressive piece hardware regrets girlfriend l...   \n",
       "\n",
       "                                          review_cleaned  \n",
       "0                                             great love  \n",
       "1      lot adsslow processing speedoccasionally shut ...  \n",
       "2      excellent unit versatility tablet competitivel...  \n",
       "3      buy amazon prime end buy camera okay love edit...  \n",
       "4               amazon product continue meet expectation  \n",
       "...                                                  ...  \n",
       "30841  purchase original kindle fire second generatio...  \n",
       "30842  m write review benefit experience kindle fire ...  \n",
       "30843  purchase kindle grandma want simple way video ...  \n",
       "30844  buy tablet fire hd good buy day come not plan ...  \n",
       "30845   impressive piece hardware regret girlfriend love  \n",
       "\n",
       "[30846 rows x 19 columns]"
      ]
     },
     "execution_count": 58,
     "metadata": {},
     "output_type": "execute_result"
    }
   ],
   "source": [
    "df"
   ]
  },
  {
   "cell_type": "code",
   "execution_count": 59,
   "id": "49a5ff33",
   "metadata": {},
   "outputs": [
    {
     "name": "stdout",
     "output_type": "stream",
     "text": [
      "(24676, 17203) (6170, 17203) (24676,) (6170,)\n"
     ]
    }
   ],
   "source": [
    "# Split features and labels\n",
    "X = df[\"review_cleaned\"]\n",
    "y = df[\"sentiment\"]\n",
    "\n",
    "# Vectorize your data\n",
    "vectorizer = TfidfVectorizer(stop_words=\"english\")\n",
    "X = vectorizer.fit_transform(df['review_cleaned'])\n",
    "\n",
    "# Split train and test set\n",
    "X_train, X_test, y_train, y_test = train_test_split(X, y, test_size=0.2,random_state=42)\n",
    "\n",
    "# Print the shapes of the train and test sets\n",
    "print(X_train.shape, X_test.shape, y_train.shape, y_test.shape)"
   ]
  },
  {
   "cell_type": "code",
   "execution_count": 60,
   "id": "ae01149a",
   "metadata": {},
   "outputs": [],
   "source": [
    "# Define the resampling method\n",
    "sm = SMOTE(random_state=42)\n",
    "\n",
    "# Create the resampled feature set\n",
    "X_resampled, y_resampled = sm.fit_resample(X, df['sentiment'])\n",
    "\n",
    "# Split your resampled data \n",
    "X_train, X_test, y_train, y_test = train_test_split(X_resampled, y_resampled, random_state=42, test_size=0.20)"
   ]
  },
  {
   "cell_type": "markdown",
   "id": "e6f48130",
   "metadata": {},
   "source": [
    "### Model Building\n",
    "\n",
    "### (a) Logistic Regression"
   ]
  },
  {
   "cell_type": "code",
   "execution_count": 61,
   "id": "452969a7",
   "metadata": {},
   "outputs": [
    {
     "data": {
      "text/plain": [
       "LogisticRegression()"
      ]
     },
     "execution_count": 61,
     "metadata": {},
     "output_type": "execute_result"
    }
   ],
   "source": [
    "# Instantiate the classifier\n",
    "model_LR = LogisticRegression()\n",
    "# Train the classifier\n",
    "model_LR.fit(X_train,y_train)"
   ]
  },
  {
   "cell_type": "code",
   "execution_count": 62,
   "id": "f9253e83",
   "metadata": {},
   "outputs": [],
   "source": [
    "# Predicting the class label\n",
    "pred_LR = model_LR.predict(X_test)"
   ]
  },
  {
   "cell_type": "code",
   "execution_count": 63,
   "id": "0faaba20",
   "metadata": {},
   "outputs": [],
   "source": [
    "def Confusion_Matrix(y_test,ypred):\n",
    "    cfmat = confusion_matrix(y_test,ypred)\n",
    "    print('Confusion Matrix: \\n',classification_report(y_test,ypred,labels=[0,1]))\n",
    "    print(\"\\n\")\n",
    "    print('TN - True Negative {}'.format(cfmat[1,1]))\n",
    "    print('FP - False Positive {}'.format(cfmat[1,0]))\n",
    "    print('FN - False Negative {}'.format(cfmat[0,1]))\n",
    "    print('TP - True Positive {}'.format(cfmat[0,0]))\n",
    "    print('Accuracy Rate: {}'.format(np.divide(np.sum([cfmat[0,0],cfmat[1,1]]),np.sum(cfmat))))\n",
    "    print('Misclassification Rate: {}'.format(np.divide(np.sum([cfmat[0,1],cfmat[1,0]]),np.sum(cfmat))))\n",
    "    print('F1-Score: {}'.format(f1_score(y_test, ypred,average='macro')))\n",
    "    print('ROC-AUC {}'.format(roc_auc_score(y_test,ypred)))"
   ]
  },
  {
   "cell_type": "code",
   "execution_count": 64,
   "id": "0f666499",
   "metadata": {},
   "outputs": [
    {
     "name": "stdout",
     "output_type": "stream",
     "text": [
      "Confusion Matrix: \n",
      "               precision    recall  f1-score   support\n",
      "\n",
      "           0       0.86      0.92      0.89      5180\n",
      "           1       0.92      0.85      0.88      5127\n",
      "\n",
      "    accuracy                           0.88     10307\n",
      "   macro avg       0.89      0.88      0.88     10307\n",
      "weighted avg       0.89      0.88      0.88     10307\n",
      "\n",
      "\n",
      "\n",
      "TN - True Negative 4344\n",
      "FP - False Positive 783\n",
      "FN - False Negative 403\n",
      "TP - True Positive 4777\n",
      "Accuracy Rate: 0.8849325700979916\n",
      "Misclassification Rate: 0.11506742990200834\n",
      "F1-Score: 0.8847291326958033\n",
      "ROC-AUC 0.8847399413958805\n"
     ]
    }
   ],
   "source": [
    "Confusion_Matrix(y_test,pred_LR)"
   ]
  },
  {
   "cell_type": "markdown",
   "id": "8f4fea54",
   "metadata": {},
   "source": [
    "### (b) Random Forest Classifier"
   ]
  },
  {
   "cell_type": "code",
   "execution_count": 65,
   "id": "14b02e52",
   "metadata": {},
   "outputs": [
    {
     "data": {
      "text/plain": [
       "RandomForestClassifier(n_estimators=200, random_state=0)"
      ]
     },
     "execution_count": 65,
     "metadata": {},
     "output_type": "execute_result"
    }
   ],
   "source": [
    "# Instantiate the classifier\n",
    "model_RF = RandomForestClassifier(n_estimators=200, random_state=0)\n",
    "# Train the classifier\n",
    "model_RF.fit(X_train, y_train)"
   ]
  },
  {
   "cell_type": "code",
   "execution_count": 68,
   "id": "1269035a",
   "metadata": {
    "scrolled": true
   },
   "outputs": [
    {
     "data": {
      "text/plain": [
       "RandomForestClassifier(n_estimators=200, random_state=0)"
      ]
     },
     "execution_count": 68,
     "metadata": {},
     "output_type": "execute_result"
    }
   ],
   "source": [
    "RandomForestClassifier(n_estimators=200, random_state=0)\n"
   ]
  },
  {
   "cell_type": "code",
   "execution_count": 69,
   "id": "17a3f6d5",
   "metadata": {},
   "outputs": [],
   "source": [
    "# Predicting the class label\n",
    "pred_RF = model_RF.predict(X_test)"
   ]
  },
  {
   "cell_type": "code",
   "execution_count": 70,
   "id": "b4f4d44d",
   "metadata": {
    "scrolled": true
   },
   "outputs": [
    {
     "name": "stdout",
     "output_type": "stream",
     "text": [
      "Confusion Matrix: \n",
      "               precision    recall  f1-score   support\n",
      "\n",
      "           0       0.91      0.96      0.94      5180\n",
      "           1       0.96      0.90      0.93      5127\n",
      "\n",
      "    accuracy                           0.93     10307\n",
      "   macro avg       0.94      0.93      0.93     10307\n",
      "weighted avg       0.94      0.93      0.93     10307\n",
      "\n",
      "\n",
      "\n",
      "TN - True Negative 4636\n",
      "FP - False Positive 491\n",
      "FN - False Negative 193\n",
      "TP - True Positive 4987\n",
      "Accuracy Rate: 0.9336373338507811\n",
      "Misclassification Rate: 0.06636266614921897\n",
      "F1-Score: 0.9335602829971107\n",
      "ROC-AUC 0.933486903688776\n"
     ]
    }
   ],
   "source": [
    "Confusion_Matrix(y_test,pred_RF)"
   ]
  },
  {
   "cell_type": "markdown",
   "id": "b1ee20f6",
   "metadata": {},
   "source": [
    "### (c) K-Nearest Neighbor (KNN)"
   ]
  },
  {
   "cell_type": "code",
   "execution_count": 71,
   "id": "15bd024b",
   "metadata": {},
   "outputs": [
    {
     "data": {
      "text/plain": [
       "KNeighborsClassifier()"
      ]
     },
     "execution_count": 71,
     "metadata": {},
     "output_type": "execute_result"
    }
   ],
   "source": [
    "# Instantiate the classifier\n",
    "model_knn = KNeighborsClassifier()\n",
    "# Train the classifier\n",
    "model_knn.fit(X_train, y_train)"
   ]
  },
  {
   "cell_type": "code",
   "execution_count": 72,
   "id": "3b529294",
   "metadata": {},
   "outputs": [],
   "source": [
    "# Predicting the class label\n",
    "pred_knn = model_knn.predict(X_test)"
   ]
  },
  {
   "cell_type": "code",
   "execution_count": 73,
   "id": "61e228eb",
   "metadata": {},
   "outputs": [
    {
     "name": "stdout",
     "output_type": "stream",
     "text": [
      "Confusion Matrix: \n",
      "               precision    recall  f1-score   support\n",
      "\n",
      "           0       0.64      0.98      0.78      5180\n",
      "           1       0.95      0.46      0.62      5127\n",
      "\n",
      "    accuracy                           0.72     10307\n",
      "   macro avg       0.80      0.72      0.70     10307\n",
      "weighted avg       0.80      0.72      0.70     10307\n",
      "\n",
      "\n",
      "\n",
      "TN - True Negative 2334\n",
      "FP - False Positive 2793\n",
      "FN - False Negative 119\n",
      "TP - True Positive 5061\n",
      "Accuracy Rate: 0.7174735616571263\n",
      "Misclassification Rate: 0.2825264383428738\n",
      "F1-Score: 0.6962077262511726\n",
      "ROC-AUC 0.7161320038587446\n"
     ]
    }
   ],
   "source": [
    "Confusion_Matrix(y_test,pred_knn) "
   ]
  },
  {
   "cell_type": "markdown",
   "id": "6768b3bd",
   "metadata": {},
   "source": [
    "### Model Evaluation: Logistic Regression vs Random Forest Classifier vs KNN"
   ]
  },
  {
   "cell_type": "markdown",
   "id": "7d56fd82",
   "metadata": {},
   "source": [
    "Logistic Regression achieved an accuracy of 88.49%, with precision rates of 86% for class 0 and 92% for class 1, and recall rates of 92% for class 0 and 85% for class 1. Its F1-Scores were 88% for class 0 and 88% for class 1, while the ROC-AUC score was 88.47%. In its confusion matrix, it had 4344 true negatives, 783 false positives, 403 false negatives, and 4777 true positives.\n",
    "\n",
    "The Random Forest Classifier outperformed others with an accuracy of 93.36%, precision rates of 91% for class 0 and 96% for class 1, and recall rates of 96% for class 0 and 90% for class 1. Its F1-Scores were 94% for class 0 and 93% for class 1, while the ROC-AUC score was 93.35%. In its confusion matrix, it had 4636 true negatives, 491 false positives, 193 false negatives, and 4987 true positives.\n",
    "\n",
    "K-Nearest Neighbors (KNN) achieved an accuracy of 71.75%, with precision rates of 64% for class 0 and 95% for class 1, and recall rates of 98% for class 0 and 46% for class 1. Its F1-Scores were 78% for class 0 and 62% for class 1, while the ROC-AUC score was 71.61%. In its confusion matrix, it had 2334 true negatives, 2793 false positives, 119 false negatives, and 5061 true positives.\n",
    "\n",
    "Based on the evaluation metrics, the Random Forest Classifier appears to be the best-performing model among the three, considering its high accuracy, precision, recall, F1-score, and ROC-AUC score. It consistently outperforms Logistic Regression and K-Nearest Neighbors across all metrics. Therefore, I recommend choosing the Random Forest Classifier for sentiment analysis of Amazon product reviews."
   ]
  }
 ],
 "metadata": {
  "kernelspec": {
   "display_name": "Python 3 (ipykernel)",
   "language": "python",
   "name": "python3"
  },
  "language_info": {
   "codemirror_mode": {
    "name": "ipython",
    "version": 3
   },
   "file_extension": ".py",
   "mimetype": "text/x-python",
   "name": "python",
   "nbconvert_exporter": "python",
   "pygments_lexer": "ipython3",
   "version": "3.9.13"
  }
 },
 "nbformat": 4,
 "nbformat_minor": 5
}
